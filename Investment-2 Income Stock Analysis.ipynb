{
 "cells": [
  {
   "cell_type": "code",
   "execution_count": 3,
   "id": "8e6fc924",
   "metadata": {},
   "outputs": [],
   "source": [
    "import numpy as np\n",
    "import matplotlib.pyplot as plt\n",
    "import pandas as pd\n",
    "import scipy.stats as stats\n",
    "import statistics"
   ]
  },
  {
   "cell_type": "code",
   "execution_count": 4,
   "id": "b54bde32",
   "metadata": {},
   "outputs": [
    {
     "data": {
      "text/html": [
       "<div>\n",
       "<style scoped>\n",
       "    .dataframe tbody tr th:only-of-type {\n",
       "        vertical-align: middle;\n",
       "    }\n",
       "\n",
       "    .dataframe tbody tr th {\n",
       "        vertical-align: top;\n",
       "    }\n",
       "\n",
       "    .dataframe thead th {\n",
       "        text-align: right;\n",
       "    }\n",
       "</style>\n",
       "<table border=\"1\" class=\"dataframe\">\n",
       "  <thead>\n",
       "    <tr style=\"text-align: right;\">\n",
       "      <th></th>\n",
       "      <th>Date</th>\n",
       "      <th>Open Price</th>\n",
       "      <th>High Price</th>\n",
       "      <th>Low Price</th>\n",
       "      <th>Close Price</th>\n",
       "      <th>WAP</th>\n",
       "      <th>No.of Shares</th>\n",
       "      <th>No. of Trades</th>\n",
       "      <th>Total Turnover (Rs.)</th>\n",
       "      <th>Deliverable Quantity</th>\n",
       "      <th>% Deli. Qty to Traded Qty</th>\n",
       "      <th>Spread High-Low</th>\n",
       "      <th>Spread Close-Open</th>\n",
       "    </tr>\n",
       "  </thead>\n",
       "  <tbody>\n",
       "    <tr>\n",
       "      <th>0</th>\n",
       "      <td>21-July-2023</td>\n",
       "      <td>1112.95</td>\n",
       "      <td>1140.00</td>\n",
       "      <td>1096.45</td>\n",
       "      <td>1116.75</td>\n",
       "      <td>1121.283333</td>\n",
       "      <td>115627</td>\n",
       "      <td>9120</td>\n",
       "      <td>129650628.0</td>\n",
       "      <td>56024</td>\n",
       "      <td>48.45</td>\n",
       "      <td>43.55</td>\n",
       "      <td>3.80</td>\n",
       "    </tr>\n",
       "    <tr>\n",
       "      <th>1</th>\n",
       "      <td>20-July-2023</td>\n",
       "      <td>1160.00</td>\n",
       "      <td>1161.85</td>\n",
       "      <td>1148.30</td>\n",
       "      <td>1155.20</td>\n",
       "      <td>1153.457186</td>\n",
       "      <td>41178</td>\n",
       "      <td>2315</td>\n",
       "      <td>47497060.0</td>\n",
       "      <td>16691</td>\n",
       "      <td>40.53</td>\n",
       "      <td>13.55</td>\n",
       "      <td>-4.80</td>\n",
       "    </tr>\n",
       "    <tr>\n",
       "      <th>2</th>\n",
       "      <td>19-July-2023</td>\n",
       "      <td>1167.00</td>\n",
       "      <td>1174.75</td>\n",
       "      <td>1156.65</td>\n",
       "      <td>1168.50</td>\n",
       "      <td>1166.695366</td>\n",
       "      <td>90410</td>\n",
       "      <td>5253</td>\n",
       "      <td>105480928.0</td>\n",
       "      <td>36125</td>\n",
       "      <td>39.96</td>\n",
       "      <td>18.10</td>\n",
       "      <td>1.50</td>\n",
       "    </tr>\n",
       "    <tr>\n",
       "      <th>3</th>\n",
       "      <td>18-July-2023</td>\n",
       "      <td>1154.05</td>\n",
       "      <td>1170.00</td>\n",
       "      <td>1147.15</td>\n",
       "      <td>1167.30</td>\n",
       "      <td>1160.300838</td>\n",
       "      <td>50479</td>\n",
       "      <td>2777</td>\n",
       "      <td>58570826.0</td>\n",
       "      <td>22928</td>\n",
       "      <td>45.42</td>\n",
       "      <td>22.85</td>\n",
       "      <td>13.25</td>\n",
       "    </tr>\n",
       "    <tr>\n",
       "      <th>4</th>\n",
       "      <td>17-July-2023</td>\n",
       "      <td>1150.10</td>\n",
       "      <td>1171.80</td>\n",
       "      <td>1144.30</td>\n",
       "      <td>1153.65</td>\n",
       "      <td>1160.672552</td>\n",
       "      <td>171389</td>\n",
       "      <td>10053</td>\n",
       "      <td>198926508.0</td>\n",
       "      <td>85037</td>\n",
       "      <td>49.62</td>\n",
       "      <td>27.50</td>\n",
       "      <td>3.55</td>\n",
       "    </tr>\n",
       "    <tr>\n",
       "      <th>...</th>\n",
       "      <td>...</td>\n",
       "      <td>...</td>\n",
       "      <td>...</td>\n",
       "      <td>...</td>\n",
       "      <td>...</td>\n",
       "      <td>...</td>\n",
       "      <td>...</td>\n",
       "      <td>...</td>\n",
       "      <td>...</td>\n",
       "      <td>...</td>\n",
       "      <td>...</td>\n",
       "      <td>...</td>\n",
       "      <td>...</td>\n",
       "    </tr>\n",
       "    <tr>\n",
       "      <th>243</th>\n",
       "      <td>27-July-2022</td>\n",
       "      <td>914.90</td>\n",
       "      <td>929.50</td>\n",
       "      <td>911.05</td>\n",
       "      <td>928.15</td>\n",
       "      <td>923.274439</td>\n",
       "      <td>51946</td>\n",
       "      <td>2100</td>\n",
       "      <td>47960414.0</td>\n",
       "      <td>25094</td>\n",
       "      <td>48.31</td>\n",
       "      <td>18.45</td>\n",
       "      <td>13.25</td>\n",
       "    </tr>\n",
       "    <tr>\n",
       "      <th>244</th>\n",
       "      <td>26-July-2022</td>\n",
       "      <td>929.70</td>\n",
       "      <td>929.70</td>\n",
       "      <td>911.25</td>\n",
       "      <td>913.45</td>\n",
       "      <td>918.375909</td>\n",
       "      <td>44697</td>\n",
       "      <td>2535</td>\n",
       "      <td>41048648.0</td>\n",
       "      <td>15947</td>\n",
       "      <td>35.68</td>\n",
       "      <td>18.45</td>\n",
       "      <td>-16.25</td>\n",
       "    </tr>\n",
       "    <tr>\n",
       "      <th>245</th>\n",
       "      <td>25-July-2022</td>\n",
       "      <td>919.95</td>\n",
       "      <td>932.00</td>\n",
       "      <td>914.65</td>\n",
       "      <td>930.35</td>\n",
       "      <td>923.319749</td>\n",
       "      <td>121902</td>\n",
       "      <td>3670</td>\n",
       "      <td>112554524.0</td>\n",
       "      <td>82038</td>\n",
       "      <td>67.30</td>\n",
       "      <td>17.35</td>\n",
       "      <td>10.40</td>\n",
       "    </tr>\n",
       "    <tr>\n",
       "      <th>246</th>\n",
       "      <td>22-July-2022</td>\n",
       "      <td>931.00</td>\n",
       "      <td>931.25</td>\n",
       "      <td>909.40</td>\n",
       "      <td>920.00</td>\n",
       "      <td>916.772290</td>\n",
       "      <td>132783</td>\n",
       "      <td>4022</td>\n",
       "      <td>121731775.0</td>\n",
       "      <td>79645</td>\n",
       "      <td>59.98</td>\n",
       "      <td>21.85</td>\n",
       "      <td>-11.00</td>\n",
       "    </tr>\n",
       "    <tr>\n",
       "      <th>247</th>\n",
       "      <td>21-July-2022</td>\n",
       "      <td>922.00</td>\n",
       "      <td>926.95</td>\n",
       "      <td>913.70</td>\n",
       "      <td>924.40</td>\n",
       "      <td>923.196947</td>\n",
       "      <td>451904</td>\n",
       "      <td>12755</td>\n",
       "      <td>417196393.0</td>\n",
       "      <td>306071</td>\n",
       "      <td>67.73</td>\n",
       "      <td>13.25</td>\n",
       "      <td>2.40</td>\n",
       "    </tr>\n",
       "  </tbody>\n",
       "</table>\n",
       "<p>248 rows × 13 columns</p>\n",
       "</div>"
      ],
      "text/plain": [
       "             Date  Open Price  High Price  Low Price  Close Price  \\\n",
       "0    21-July-2023     1112.95     1140.00    1096.45      1116.75   \n",
       "1    20-July-2023     1160.00     1161.85    1148.30      1155.20   \n",
       "2    19-July-2023     1167.00     1174.75    1156.65      1168.50   \n",
       "3    18-July-2023     1154.05     1170.00    1147.15      1167.30   \n",
       "4    17-July-2023     1150.10     1171.80    1144.30      1153.65   \n",
       "..            ...         ...         ...        ...          ...   \n",
       "243  27-July-2022      914.90      929.50     911.05       928.15   \n",
       "244  26-July-2022      929.70      929.70     911.25       913.45   \n",
       "245  25-July-2022      919.95      932.00     914.65       930.35   \n",
       "246  22-July-2022      931.00      931.25     909.40       920.00   \n",
       "247  21-July-2022      922.00      926.95     913.70       924.40   \n",
       "\n",
       "             WAP  No.of Shares  No. of Trades  Total Turnover (Rs.)  \\\n",
       "0    1121.283333        115627           9120           129650628.0   \n",
       "1    1153.457186         41178           2315            47497060.0   \n",
       "2    1166.695366         90410           5253           105480928.0   \n",
       "3    1160.300838         50479           2777            58570826.0   \n",
       "4    1160.672552        171389          10053           198926508.0   \n",
       "..           ...           ...            ...                   ...   \n",
       "243   923.274439         51946           2100            47960414.0   \n",
       "244   918.375909         44697           2535            41048648.0   \n",
       "245   923.319749        121902           3670           112554524.0   \n",
       "246   916.772290        132783           4022           121731775.0   \n",
       "247   923.196947        451904          12755           417196393.0   \n",
       "\n",
       "     Deliverable Quantity  % Deli. Qty to Traded Qty  Spread High-Low  \\\n",
       "0                   56024                      48.45            43.55   \n",
       "1                   16691                      40.53            13.55   \n",
       "2                   36125                      39.96            18.10   \n",
       "3                   22928                      45.42            22.85   \n",
       "4                   85037                      49.62            27.50   \n",
       "..                    ...                        ...              ...   \n",
       "243                 25094                      48.31            18.45   \n",
       "244                 15947                      35.68            18.45   \n",
       "245                 82038                      67.30            17.35   \n",
       "246                 79645                      59.98            21.85   \n",
       "247                306071                      67.73            13.25   \n",
       "\n",
       "     Spread Close-Open  \n",
       "0                 3.80  \n",
       "1                -4.80  \n",
       "2                 1.50  \n",
       "3                13.25  \n",
       "4                 3.55  \n",
       "..                 ...  \n",
       "243              13.25  \n",
       "244             -16.25  \n",
       "245              10.40  \n",
       "246             -11.00  \n",
       "247               2.40  \n",
       "\n",
       "[248 rows x 13 columns]"
      ]
     },
     "execution_count": 4,
     "metadata": {},
     "output_type": "execute_result"
    }
   ],
   "source": [
    "data=pd.read_csv(\"HCL-2022-2023.csv\")\n",
    "df=pd.DataFrame(data)\n",
    "df"
   ]
  },
  {
   "cell_type": "code",
   "execution_count": 5,
   "id": "1f7ca47b",
   "metadata": {},
   "outputs": [],
   "source": [
    "date=df[\"Date\"].tolist()\n",
    "date=pd.to_datetime(date)\n",
    "df=df.set_index(date)\n",
    "close_price=df[\"Close Price\"].tolist()"
   ]
  },
  {
   "cell_type": "code",
   "execution_count": 6,
   "id": "c0647232",
   "metadata": {},
   "outputs": [
    {
     "data": {
      "image/png": "[encoded data removed]",
      "text/plain": [
       "<Figure size 432x288 with 1 Axes>"
      ]
     },
     "metadata": {
      "needs_background": "light"
     },
     "output_type": "display_data"
    }
   ],
   "source": [
    "plt.plot(date, close_price,linewidth='2',color='blue')\n",
    "plt.gcf().autofmt_xdate()\n",
    "plt.xlabel(\"Date\",weight='bold',size='12')\n",
    "plt.ylabel(\"Stock Price (in Rupess)\",weight='bold',size='12')\n",
    "plt.xticks(size='10',weight='bold')\n",
    "plt.yticks(size='10',weight='bold')\n",
    "#plt.savefig(\"HCL_stock_data.png\",dpi=1200)\n",
    "plt.show()"
   ]
  },
  {
   "cell_type": "code",
   "execution_count": 7,
   "id": "bc049e26",
   "metadata": {},
   "outputs": [],
   "source": [
    "n=len(close_price)\n",
    "Return=[(close_price[i-1]-close_price[i])*100/close_price[i] for i in range(n-1,0,-1)]\n",
    "days=[i for i in range(n-1,0,-1)]"
   ]
  },
  {
   "cell_type": "code",
   "execution_count": 8,
   "id": "c4489a48",
   "metadata": {},
   "outputs": [
    {
     "data": {
      "image/png": "[encoded data removed]",
      "text/plain": [
       "<Figure size 432x288 with 1 Axes>"
      ]
     },
     "metadata": {
      "needs_background": "light"
     },
     "output_type": "display_data"
    }
   ],
   "source": [
    "plt.hist(Return,bins=[-6,-4,-2,0,2,4,6],edgecolor='k')\n",
    "plt.xlabel(\"Return (%)\",weight='bold',size='12')\n",
    "plt.ylabel(\"Frequency\",weight='bold',size='12')\n",
    "plt.xticks(size='10',weight='bold')\n",
    "plt.yticks(size='10',weight='bold')\n",
    "#plt.savefig(\"Return_plot_HCL.png\")\n",
    "plt.show()"
   ]
  },
  {
   "cell_type": "code",
   "execution_count": 9,
   "id": "87028489",
   "metadata": {},
   "outputs": [
    {
     "name": "stdout",
     "output_type": "stream",
     "text": [
      "Rate of returns in % : 20.80809173517958\n"
     ]
    }
   ],
   "source": [
    "print(\"Rate of returns in % :\",(close_price[0]-close_price[-1])*100/close_price[-1])"
   ]
  },
  {
   "cell_type": "code",
   "execution_count": 10,
   "id": "14cb0ff9",
   "metadata": {},
   "outputs": [
    {
     "name": "stdout",
     "output_type": "stream",
     "text": [
      "Standard Deviation (Volatility) (%): 1.312063901068817\n"
     ]
    }
   ],
   "source": [
    "print(\"Standard Deviation (Volatility) (%):\",statistics.stdev(Return))"
   ]
  },
  {
   "cell_type": "code",
   "execution_count": 11,
   "id": "cea6b6a3",
   "metadata": {},
   "outputs": [
    {
     "name": "stdout",
     "output_type": "stream",
     "text": [
      "Skewness: -0.38587345614242224\n"
     ]
    }
   ],
   "source": [
    "skewness=stats.skew(Return)\n",
    "print(\"Skewness:\",skewness)"
   ]
  },
  {
   "cell_type": "code",
   "execution_count": 12,
   "id": "480adf03",
   "metadata": {},
   "outputs": [
    {
     "name": "stdout",
     "output_type": "stream",
     "text": [
      "Kurtosis:  2.6116258018759186\n"
     ]
    }
   ],
   "source": [
    "kurtosis=stats.kurtosis(Return)\n",
    "print(\"Kurtosis: \",kurtosis)"
   ]
  },
  {
   "cell_type": "code",
   "execution_count": 13,
   "id": "50de2d73",
   "metadata": {},
   "outputs": [
    {
     "data": {
      "text/plain": [
       "3.79552830869094"
      ]
     },
     "execution_count": 13,
     "metadata": {},
     "output_type": "execute_result"
    }
   ],
   "source": [
    "maxi=max(Return)\n",
    "maxi"
   ]
  },
  {
   "cell_type": "code",
   "execution_count": 14,
   "id": "44ebbe82",
   "metadata": {},
   "outputs": [
    {
     "data": {
      "text/plain": [
       "-6.715096481271287"
      ]
     },
     "execution_count": 14,
     "metadata": {},
     "output_type": "execute_result"
    }
   ],
   "source": [
    "mini=min(Return)\n",
    "mini"
   ]
  },
  {
   "cell_type": "code",
   "execution_count": 15,
   "id": "71dd247e",
   "metadata": {},
   "outputs": [],
   "source": [
    "med=statistics.median(Return)"
   ]
  },
  {
   "cell_type": "code",
   "execution_count": 16,
   "id": "3c7cb0c7",
   "metadata": {},
   "outputs": [
    {
     "data": {
      "text/plain": [
       "10.510624789962227"
      ]
     },
     "execution_count": 16,
     "metadata": {},
     "output_type": "execute_result"
    }
   ],
   "source": [
    "Range=maxi-mini\n",
    "Range"
   ]
  },
  {
   "cell_type": "code",
   "execution_count": 17,
   "id": "0eca75b2",
   "metadata": {},
   "outputs": [
    {
     "data": {
      "text/plain": [
       "0.08515900824538082"
      ]
     },
     "execution_count": 17,
     "metadata": {},
     "output_type": "execute_result"
    }
   ],
   "source": [
    "mean=statistics.mean(Return)\n",
    "mean"
   ]
  },
  {
   "cell_type": "code",
   "execution_count": 18,
   "id": "27019a7e",
   "metadata": {},
   "outputs": [],
   "source": [
    "std=statistics.stdev(Return)"
   ]
  },
  {
   "cell_type": "code",
   "execution_count": 19,
   "id": "75a4d66d",
   "metadata": {},
   "outputs": [
    {
     "data": {
      "text/plain": [
       "-0.4759844223279941"
      ]
     },
     "execution_count": 19,
     "metadata": {},
     "output_type": "execute_result"
    }
   ],
   "source": [
    "statistics.mode(Return)"
   ]
  },
  {
   "cell_type": "code",
   "execution_count": 20,
   "id": "d61ee718",
   "metadata": {},
   "outputs": [
    {
     "data": {
      "text/plain": [
       "0.08380073681342308"
      ]
     },
     "execution_count": 20,
     "metadata": {},
     "output_type": "execute_result"
    }
   ],
   "source": [
    "skewness=3*(mean-med)/std\n",
    "skewness"
   ]
  },
  {
   "cell_type": "code",
   "execution_count": 21,
   "id": "ecba15cd",
   "metadata": {},
   "outputs": [
    {
     "data": {
      "text/html": [
       "<div>\n",
       "<style scoped>\n",
       "    .dataframe tbody tr th:only-of-type {\n",
       "        vertical-align: middle;\n",
       "    }\n",
       "\n",
       "    .dataframe tbody tr th {\n",
       "        vertical-align: top;\n",
       "    }\n",
       "\n",
       "    .dataframe thead th {\n",
       "        text-align: right;\n",
       "    }\n",
       "</style>\n",
       "<table border=\"1\" class=\"dataframe\">\n",
       "  <thead>\n",
       "    <tr style=\"text-align: right;\">\n",
       "      <th></th>\n",
       "      <th>0</th>\n",
       "    </tr>\n",
       "  </thead>\n",
       "  <tbody>\n",
       "    <tr>\n",
       "      <th>0</th>\n",
       "      <td>-0.475984</td>\n",
       "    </tr>\n",
       "    <tr>\n",
       "      <th>1</th>\n",
       "      <td>1.125000</td>\n",
       "    </tr>\n",
       "    <tr>\n",
       "      <th>2</th>\n",
       "      <td>-1.816521</td>\n",
       "    </tr>\n",
       "    <tr>\n",
       "      <th>3</th>\n",
       "      <td>1.609283</td>\n",
       "    </tr>\n",
       "    <tr>\n",
       "      <th>4</th>\n",
       "      <td>1.847762</td>\n",
       "    </tr>\n",
       "    <tr>\n",
       "      <th>...</th>\n",
       "      <td>...</td>\n",
       "    </tr>\n",
       "    <tr>\n",
       "      <th>242</th>\n",
       "      <td>0.204117</td>\n",
       "    </tr>\n",
       "    <tr>\n",
       "      <th>243</th>\n",
       "      <td>1.183201</td>\n",
       "    </tr>\n",
       "    <tr>\n",
       "      <th>244</th>\n",
       "      <td>0.102801</td>\n",
       "    </tr>\n",
       "    <tr>\n",
       "      <th>245</th>\n",
       "      <td>-1.138211</td>\n",
       "    </tr>\n",
       "    <tr>\n",
       "      <th>246</th>\n",
       "      <td>-3.328428</td>\n",
       "    </tr>\n",
       "  </tbody>\n",
       "</table>\n",
       "<p>247 rows × 1 columns</p>\n",
       "</div>"
      ],
      "text/plain": [
       "            0\n",
       "0   -0.475984\n",
       "1    1.125000\n",
       "2   -1.816521\n",
       "3    1.609283\n",
       "4    1.847762\n",
       "..        ...\n",
       "242  0.204117\n",
       "243  1.183201\n",
       "244  0.102801\n",
       "245 -1.138211\n",
       "246 -3.328428\n",
       "\n",
       "[247 rows x 1 columns]"
      ]
     },
     "execution_count": 21,
     "metadata": {},
     "output_type": "execute_result"
    }
   ],
   "source": [
    "df1=pd.DataFrame(Return)\n",
    "df1"
   ]
  },
  {
   "cell_type": "code",
   "execution_count": 22,
   "id": "9aed4636",
   "metadata": {},
   "outputs": [],
   "source": [
    "df1.to_excel(\"Return_HCL.xlsx\")"
   ]
  },
  {
   "cell_type": "code",
   "execution_count": null,
   "id": "01e88e11",
   "metadata": {},
   "outputs": [],
   "source": []
  }
 ],
 "metadata": {
  "kernelspec": {
   "display_name": "Python 3 (ipykernel)",
   "language": "python",
   "name": "python3"
  },
  "language_info": {
   "codemirror_mode": {
    "name": "ipython",
    "version": 3
   },
   "file_extension": ".py",
   "mimetype": "text/x-python",
   "name": "python",
   "nbconvert_exporter": "python",
   "pygments_lexer": "ipython3",
   "version": "3.9.12"
  }
 },
 "nbformat": 4,
 "nbformat_minor": 5
}
