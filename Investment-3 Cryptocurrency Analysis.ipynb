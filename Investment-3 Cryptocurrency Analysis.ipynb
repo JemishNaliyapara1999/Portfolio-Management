{
 "cells": [
  {
   "cell_type": "code",
   "execution_count": 1,
   "id": "8e6fc924",
   "metadata": {},
   "outputs": [],
   "source": [
    "import numpy as np\n",
    "import matplotlib.pyplot as plt\n",
    "import pandas as pd\n",
    "import scipy.stats as stats\n",
    "import statistics"
   ]
  },
  {
   "cell_type": "code",
   "execution_count": 2,
   "id": "b54bde32",
   "metadata": {},
   "outputs": [
    {
     "data": {
      "text/html": [
       "<div>\n",
       "<style scoped>\n",
       "    .dataframe tbody tr th:only-of-type {\n",
       "        vertical-align: middle;\n",
       "    }\n",
       "\n",
       "    .dataframe tbody tr th {\n",
       "        vertical-align: top;\n",
       "    }\n",
       "\n",
       "    .dataframe thead th {\n",
       "        text-align: right;\n",
       "    }\n",
       "</style>\n",
       "<table border=\"1\" class=\"dataframe\">\n",
       "  <thead>\n",
       "    <tr style=\"text-align: right;\">\n",
       "      <th></th>\n",
       "      <th>Date</th>\n",
       "      <th>Open</th>\n",
       "      <th>High</th>\n",
       "      <th>Low</th>\n",
       "      <th>Close</th>\n",
       "      <th>Adj Close</th>\n",
       "      <th>Volume</th>\n",
       "    </tr>\n",
       "  </thead>\n",
       "  <tbody>\n",
       "    <tr>\n",
       "      <th>0</th>\n",
       "      <td>2022-07-21</td>\n",
       "      <td>258.340118</td>\n",
       "      <td>265.907532</td>\n",
       "      <td>251.545654</td>\n",
       "      <td>265.462555</td>\n",
       "      <td>265.462555</td>\n",
       "      <td>1220055525</td>\n",
       "    </tr>\n",
       "    <tr>\n",
       "      <th>1</th>\n",
       "      <td>2022-07-22</td>\n",
       "      <td>265.477020</td>\n",
       "      <td>271.151978</td>\n",
       "      <td>261.612457</td>\n",
       "      <td>262.877441</td>\n",
       "      <td>262.877441</td>\n",
       "      <td>1173778496</td>\n",
       "    </tr>\n",
       "    <tr>\n",
       "      <th>2</th>\n",
       "      <td>2022-07-23</td>\n",
       "      <td>262.720154</td>\n",
       "      <td>271.613861</td>\n",
       "      <td>253.223862</td>\n",
       "      <td>259.463013</td>\n",
       "      <td>259.463013</td>\n",
       "      <td>1108172504</td>\n",
       "    </tr>\n",
       "    <tr>\n",
       "      <th>3</th>\n",
       "      <td>2022-07-24</td>\n",
       "      <td>259.473877</td>\n",
       "      <td>265.886688</td>\n",
       "      <td>257.432953</td>\n",
       "      <td>261.864868</td>\n",
       "      <td>261.864868</td>\n",
       "      <td>913146574</td>\n",
       "    </tr>\n",
       "    <tr>\n",
       "      <th>4</th>\n",
       "      <td>2022-07-25</td>\n",
       "      <td>261.841003</td>\n",
       "      <td>262.436127</td>\n",
       "      <td>245.148499</td>\n",
       "      <td>245.148499</td>\n",
       "      <td>245.148499</td>\n",
       "      <td>1005244476</td>\n",
       "    </tr>\n",
       "    <tr>\n",
       "      <th>...</th>\n",
       "      <td>...</td>\n",
       "      <td>...</td>\n",
       "      <td>...</td>\n",
       "      <td>...</td>\n",
       "      <td>...</td>\n",
       "      <td>...</td>\n",
       "      <td>...</td>\n",
       "    </tr>\n",
       "    <tr>\n",
       "      <th>361</th>\n",
       "      <td>2023-07-17</td>\n",
       "      <td>242.658096</td>\n",
       "      <td>244.682037</td>\n",
       "      <td>240.597595</td>\n",
       "      <td>244.352997</td>\n",
       "      <td>244.352997</td>\n",
       "      <td>671028354</td>\n",
       "    </tr>\n",
       "    <tr>\n",
       "      <th>362</th>\n",
       "      <td>2023-07-18</td>\n",
       "      <td>244.334579</td>\n",
       "      <td>246.530853</td>\n",
       "      <td>238.704224</td>\n",
       "      <td>240.264938</td>\n",
       "      <td>240.264938</td>\n",
       "      <td>751858394</td>\n",
       "    </tr>\n",
       "    <tr>\n",
       "      <th>363</th>\n",
       "      <td>2023-07-19</td>\n",
       "      <td>240.274185</td>\n",
       "      <td>243.927704</td>\n",
       "      <td>239.993591</td>\n",
       "      <td>241.160812</td>\n",
       "      <td>241.160812</td>\n",
       "      <td>499664149</td>\n",
       "    </tr>\n",
       "    <tr>\n",
       "      <th>364</th>\n",
       "      <td>2023-07-20</td>\n",
       "      <td>241.138885</td>\n",
       "      <td>243.142593</td>\n",
       "      <td>240.387741</td>\n",
       "      <td>242.733139</td>\n",
       "      <td>242.733139</td>\n",
       "      <td>485038743</td>\n",
       "    </tr>\n",
       "    <tr>\n",
       "      <th>365</th>\n",
       "      <td>2023-07-21</td>\n",
       "      <td>242.754288</td>\n",
       "      <td>245.163345</td>\n",
       "      <td>242.367477</td>\n",
       "      <td>243.788986</td>\n",
       "      <td>243.788986</td>\n",
       "      <td>413015398</td>\n",
       "    </tr>\n",
       "  </tbody>\n",
       "</table>\n",
       "<p>366 rows × 7 columns</p>\n",
       "</div>"
      ],
      "text/plain": [
       "           Date        Open        High         Low       Close   Adj Close  \\\n",
       "0    2022-07-21  258.340118  265.907532  251.545654  265.462555  265.462555   \n",
       "1    2022-07-22  265.477020  271.151978  261.612457  262.877441  262.877441   \n",
       "2    2022-07-23  262.720154  271.613861  253.223862  259.463013  259.463013   \n",
       "3    2022-07-24  259.473877  265.886688  257.432953  261.864868  261.864868   \n",
       "4    2022-07-25  261.841003  262.436127  245.148499  245.148499  245.148499   \n",
       "..          ...         ...         ...         ...         ...         ...   \n",
       "361  2023-07-17  242.658096  244.682037  240.597595  244.352997  244.352997   \n",
       "362  2023-07-18  244.334579  246.530853  238.704224  240.264938  240.264938   \n",
       "363  2023-07-19  240.274185  243.927704  239.993591  241.160812  241.160812   \n",
       "364  2023-07-20  241.138885  243.142593  240.387741  242.733139  242.733139   \n",
       "365  2023-07-21  242.754288  245.163345  242.367477  243.788986  243.788986   \n",
       "\n",
       "         Volume  \n",
       "0    1220055525  \n",
       "1    1173778496  \n",
       "2    1108172504  \n",
       "3     913146574  \n",
       "4    1005244476  \n",
       "..          ...  \n",
       "361   671028354  \n",
       "362   751858394  \n",
       "363   499664149  \n",
       "364   485038743  \n",
       "365   413015398  \n",
       "\n",
       "[366 rows x 7 columns]"
      ]
     },
     "execution_count": 2,
     "metadata": {},
     "output_type": "execute_result"
    }
   ],
   "source": [
    "data=pd.read_csv(\"BNB-USD.csv\")\n",
    "df=pd.DataFrame(data)\n",
    "df"
   ]
  },
  {
   "cell_type": "code",
   "execution_count": 3,
   "id": "1f7ca47b",
   "metadata": {},
   "outputs": [],
   "source": [
    "date=df[\"Date\"].tolist()\n",
    "date=pd.to_datetime(date)\n",
    "df=df.set_index(date)\n",
    "close_price=df[\"Close\"].tolist()"
   ]
  },
  {
   "cell_type": "code",
   "execution_count": 4,
   "id": "c0647232",
   "metadata": {},
   "outputs": [
    {
     "data": {
      "image/png": "[encoded data removed]",
      "text/plain": [
       "<Figure size 432x288 with 1 Axes>"
      ]
     },
     "metadata": {
      "needs_background": "light"
     },
     "output_type": "display_data"
    }
   ],
   "source": [
    "plt.plot(date, close_price,linewidth='2',color='blue')\n",
    "plt.gcf().autofmt_xdate()\n",
    "plt.xlabel(\"Date\",weight='bold',size='12')\n",
    "plt.ylabel(\"Cryptocurrency Price (in USD)\",weight='bold',size='12')\n",
    "plt.xticks(size='10',weight='bold')\n",
    "plt.yticks(size='10',weight='bold')\n",
    "#plt.savefig(\"BNB_USD.png\",dpi=1200)\n",
    "plt.show()"
   ]
  },
  {
   "cell_type": "code",
   "execution_count": 5,
   "id": "bc049e26",
   "metadata": {},
   "outputs": [],
   "source": [
    "n=len(close_price)\n",
    "Return=[(close_price[i]-close_price[i-1])*100/close_price[i-1] for i in range(1,n)]\n",
    "#days=[i for i in range(n-1,0,-1)]"
   ]
  },
  {
   "cell_type": "code",
   "execution_count": 6,
   "id": "c4489a48",
   "metadata": {},
   "outputs": [
    {
     "data": {
      "image/png": "[encoded data removed]",
      "text/plain": [
       "<Figure size 432x288 with 1 Axes>"
      ]
     },
     "metadata": {
      "needs_background": "light"
     },
     "output_type": "display_data"
    }
   ],
   "source": [
    "plt.hist(Return,bins=[-22,-20,-18,-16,-14,-12,-10,-8,-6,-4,-2,0,2,4,6,8,10,12,14,16,18,20,22],edgecolor='k')\n",
    "plt.xlabel(\"Return (%)\",weight='bold',size='12')\n",
    "plt.ylabel(\"Frequency\",weight='bold',size='12')\n",
    "plt.xticks(size='10',weight='bold')\n",
    "plt.yticks(size='10',weight='bold')\n",
    "#plt.savefig(\"Return_plot_BNB.png\")\n",
    "plt.show()"
   ]
  },
  {
   "cell_type": "code",
   "execution_count": 7,
   "id": "532df108",
   "metadata": {},
   "outputs": [
    {
     "data": {
      "text/plain": [
       "243.788986"
      ]
     },
     "execution_count": 7,
     "metadata": {},
     "output_type": "execute_result"
    }
   ],
   "source": [
    "close_price[-1]"
   ]
  },
  {
   "cell_type": "code",
   "execution_count": 8,
   "id": "3d87bb73",
   "metadata": {},
   "outputs": [
    {
     "data": {
      "text/plain": [
       "Timestamp('2023-07-21 00:00:00')"
      ]
     },
     "execution_count": 8,
     "metadata": {},
     "output_type": "execute_result"
    }
   ],
   "source": [
    "date[-1]"
   ]
  },
  {
   "cell_type": "code",
   "execution_count": 9,
   "id": "87028489",
   "metadata": {},
   "outputs": [
    {
     "name": "stdout",
     "output_type": "stream",
     "text": [
      "Rate of returns in % : -8.164454305052558\n"
     ]
    }
   ],
   "source": [
    "print(\"Rate of returns in % :\",(close_price[-1]-close_price[0])*100/close_price[0])"
   ]
  },
  {
   "cell_type": "code",
   "execution_count": 10,
   "id": "14cb0ff9",
   "metadata": {},
   "outputs": [
    {
     "name": "stdout",
     "output_type": "stream",
     "text": [
      "Standard Deviation (Volatility) (%): 2.9016685524274424\n"
     ]
    }
   ],
   "source": [
    "print(\"Standard Deviation (Volatility) (%):\",statistics.stdev(Return))"
   ]
  },
  {
   "cell_type": "code",
   "execution_count": 11,
   "id": "cea6b6a3",
   "metadata": {},
   "outputs": [
    {
     "name": "stdout",
     "output_type": "stream",
     "text": [
      "Skewness: -0.35066680504785963\n"
     ]
    }
   ],
   "source": [
    "skewness=stats.skew(Return)\n",
    "print(\"Skewness:\",skewness)"
   ]
  },
  {
   "cell_type": "code",
   "execution_count": 12,
   "id": "480adf03",
   "metadata": {},
   "outputs": [
    {
     "name": "stdout",
     "output_type": "stream",
     "text": [
      "Kurtosis:  6.9477638080668775\n"
     ]
    }
   ],
   "source": [
    "kurtosis=stats.kurtosis(Return)\n",
    "print(\"Kurtosis: \",kurtosis)"
   ]
  },
  {
   "cell_type": "code",
   "execution_count": 13,
   "id": "50de2d73",
   "metadata": {},
   "outputs": [
    {
     "data": {
      "text/plain": [
       "13.950344346546679"
      ]
     },
     "execution_count": 13,
     "metadata": {},
     "output_type": "execute_result"
    }
   ],
   "source": [
    "maxi=max(Return)\n",
    "maxi"
   ]
  },
  {
   "cell_type": "code",
   "execution_count": 14,
   "id": "44ebbe82",
   "metadata": {},
   "outputs": [
    {
     "data": {
      "text/plain": [
       "-18.565444955206893"
      ]
     },
     "execution_count": 14,
     "metadata": {},
     "output_type": "execute_result"
    }
   ],
   "source": [
    "mini=min(Return)\n",
    "mini"
   ]
  },
  {
   "cell_type": "code",
   "execution_count": 15,
   "id": "71dd247e",
   "metadata": {},
   "outputs": [
    {
     "data": {
      "text/plain": [
       "0.03445438947484969"
      ]
     },
     "execution_count": 15,
     "metadata": {},
     "output_type": "execute_result"
    }
   ],
   "source": [
    "med=statistics.median(Return)\n",
    "med"
   ]
  },
  {
   "cell_type": "code",
   "execution_count": 16,
   "id": "3c7cb0c7",
   "metadata": {},
   "outputs": [
    {
     "data": {
      "text/plain": [
       "32.51578930175357"
      ]
     },
     "execution_count": 16,
     "metadata": {},
     "output_type": "execute_result"
    }
   ],
   "source": [
    "Range=maxi-mini\n",
    "Range"
   ]
  },
  {
   "cell_type": "code",
   "execution_count": 17,
   "id": "0eca75b2",
   "metadata": {},
   "outputs": [
    {
     "data": {
      "text/plain": [
       "0.019105557003969098"
      ]
     },
     "execution_count": 17,
     "metadata": {},
     "output_type": "execute_result"
    }
   ],
   "source": [
    "mean=statistics.mean(Return)\n",
    "mean"
   ]
  },
  {
   "cell_type": "code",
   "execution_count": 18,
   "id": "27019a7e",
   "metadata": {},
   "outputs": [
    {
     "data": {
      "text/plain": [
       "2.9016685524274424"
      ]
     },
     "execution_count": 18,
     "metadata": {},
     "output_type": "execute_result"
    }
   ],
   "source": [
    "std=statistics.stdev(Return)\n",
    "std"
   ]
  },
  {
   "cell_type": "code",
   "execution_count": 19,
   "id": "75a4d66d",
   "metadata": {},
   "outputs": [
    {
     "data": {
      "text/plain": [
       "-0.9738149322039158"
      ]
     },
     "execution_count": 19,
     "metadata": {},
     "output_type": "execute_result"
    }
   ],
   "source": [
    "statistics.mode(Return)"
   ]
  },
  {
   "cell_type": "code",
   "execution_count": 20,
   "id": "d61ee718",
   "metadata": {},
   "outputs": [
    {
     "data": {
      "text/plain": [
       "-0.015868972138158494"
      ]
     },
     "execution_count": 20,
     "metadata": {},
     "output_type": "execute_result"
    }
   ],
   "source": [
    "skewness=3*(mean-med)/std\n",
    "skewness"
   ]
  },
  {
   "cell_type": "code",
   "execution_count": 21,
   "id": "ecba15cd",
   "metadata": {},
   "outputs": [
    {
     "data": {
      "text/html": [
       "<div>\n",
       "<style scoped>\n",
       "    .dataframe tbody tr th:only-of-type {\n",
       "        vertical-align: middle;\n",
       "    }\n",
       "\n",
       "    .dataframe tbody tr th {\n",
       "        vertical-align: top;\n",
       "    }\n",
       "\n",
       "    .dataframe thead th {\n",
       "        text-align: right;\n",
       "    }\n",
       "</style>\n",
       "<table border=\"1\" class=\"dataframe\">\n",
       "  <thead>\n",
       "    <tr style=\"text-align: right;\">\n",
       "      <th></th>\n",
       "      <th>0</th>\n",
       "    </tr>\n",
       "  </thead>\n",
       "  <tbody>\n",
       "    <tr>\n",
       "      <th>0</th>\n",
       "      <td>-0.973815</td>\n",
       "    </tr>\n",
       "    <tr>\n",
       "      <th>1</th>\n",
       "      <td>-1.298867</td>\n",
       "    </tr>\n",
       "    <tr>\n",
       "      <th>2</th>\n",
       "      <td>0.925702</td>\n",
       "    </tr>\n",
       "    <tr>\n",
       "      <th>3</th>\n",
       "      <td>-6.383586</td>\n",
       "    </tr>\n",
       "    <tr>\n",
       "      <th>4</th>\n",
       "      <td>1.554109</td>\n",
       "    </tr>\n",
       "    <tr>\n",
       "      <th>...</th>\n",
       "      <td>...</td>\n",
       "    </tr>\n",
       "    <tr>\n",
       "      <th>360</th>\n",
       "      <td>0.698998</td>\n",
       "    </tr>\n",
       "    <tr>\n",
       "      <th>361</th>\n",
       "      <td>-1.673014</td>\n",
       "    </tr>\n",
       "    <tr>\n",
       "      <th>362</th>\n",
       "      <td>0.372869</td>\n",
       "    </tr>\n",
       "    <tr>\n",
       "      <th>363</th>\n",
       "      <td>0.651983</td>\n",
       "    </tr>\n",
       "    <tr>\n",
       "      <th>364</th>\n",
       "      <td>0.434983</td>\n",
       "    </tr>\n",
       "  </tbody>\n",
       "</table>\n",
       "<p>365 rows × 1 columns</p>\n",
       "</div>"
      ],
      "text/plain": [
       "            0\n",
       "0   -0.973815\n",
       "1   -1.298867\n",
       "2    0.925702\n",
       "3   -6.383586\n",
       "4    1.554109\n",
       "..        ...\n",
       "360  0.698998\n",
       "361 -1.673014\n",
       "362  0.372869\n",
       "363  0.651983\n",
       "364  0.434983\n",
       "\n",
       "[365 rows x 1 columns]"
      ]
     },
     "execution_count": 21,
     "metadata": {},
     "output_type": "execute_result"
    }
   ],
   "source": [
    "df1=pd.DataFrame(Return)\n",
    "df1"
   ]
  },
  {
   "cell_type": "code",
   "execution_count": 22,
   "id": "b29f97b6",
   "metadata": {},
   "outputs": [],
   "source": [
    "df1.to_excel(\"Return_BNB.xlsx\")"
   ]
  },
  {
   "cell_type": "code",
   "execution_count": null,
   "id": "8d2bed6f",
   "metadata": {},
   "outputs": [],
   "source": []
  }
 ],
 "metadata": {
  "kernelspec": {
   "display_name": "Python 3 (ipykernel)",
   "language": "python",
   "name": "python3"
  },
  "language_info": {
   "codemirror_mode": {
    "name": "ipython",
    "version": 3
   },
   "file_extension": ".py",
   "mimetype": "text/x-python",
   "name": "python",
   "nbconvert_exporter": "python",
   "pygments_lexer": "ipython3",
   "version": "3.9.12"
  }
 },
 "nbformat": 4,
 "nbformat_minor": 5
}
